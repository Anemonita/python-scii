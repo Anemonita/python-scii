{
 "cells": [
  {
   "cell_type": "markdown",
   "metadata": {},
   "source": [
    "# 1. Introducción a Python\n",
    "\n",
    "Alan Badillo Salas (badillo.soft@hotmail.com)\n",
    "\n",
    "## Contenido\n",
    "\n",
    "* Estructuración de datos (tipos de datos y variables)\n",
    "\n",
    "* Estructuras de control (if, for, while)\n",
    "\n",
    "* Colecciones (listas, tuplas, diccionarios)\n",
    "\n",
    "* Funciones\n",
    "\n",
    "* Módulos"
   ]
  },
  {
   "cell_type": "markdown",
   "metadata": {},
   "source": [
    "## Estructuración de datos (tipos de datos y variables)\n",
    "\n",
    "Las variables son nombre que etiquetan direcciones de memoria para acceder a datos almacenados, dichos datos tienen asociado un tipo de dato (es el formato en el que se almacenan los datos). En python podemos almacenar datos _primitivos_ en los siguientes tipos de datos:\n",
    "\n",
    "* `int` - Número entero de longitud variable (123)\n",
    "* `float` - Número decimal de longitud variable (123.456)\n",
    "* `complex` - Número imaginario indicado por `j` no por `i` (1 + 3j)\n",
    "* `str` - Cadena de texto o `string` de longitud variable (\"hola\" p 'hola')\n",
    "* `bool` - Valor lógico o booleano que almacena `True` o `False`\n",
    "* `None` - Valor no significativo que almacena `None`\n",
    "* `byte` - Valor que almacena 1 byte de información (8 bits == 255 posibilidades)\n",
    "\n",
    "Para declarar una variable bastará con colocar un nombre y asignarle un valor, si las variables son primitivas generarán copias de sus valores y si son no primitivas entonces generarán referencias."
   ]
  },
  {
   "cell_type": "markdown",
   "metadata": {},
   "source": [
    "> Ejemplo: El siguiente programa crea dos variables e imprime su suma."
   ]
  },
  {
   "cell_type": "code",
   "execution_count": 1,
   "metadata": {},
   "outputs": [
    {
     "data": {
      "text/plain": [
       "55"
      ]
     },
     "execution_count": 1,
     "metadata": {},
     "output_type": "execute_result"
    }
   ],
   "source": [
    "a = 23\n",
    "b = 32\n",
    "\n",
    "a + b"
   ]
  },
  {
   "cell_type": "markdown",
   "metadata": {},
   "source": [
    "> Podemos realizar operaciones aritméticas entre variables"
   ]
  },
  {
   "cell_type": "code",
   "execution_count": 2,
   "metadata": {},
   "outputs": [
    {
     "data": {
      "text/plain": [
       "37608910510519071039902074217516707306379521"
      ]
     },
     "execution_count": 2,
     "metadata": {},
     "output_type": "execute_result"
    }
   ],
   "source": [
    "a ** b # a vale 23 de la celda anterior"
   ]
  },
  {
   "cell_type": "code",
   "execution_count": 3,
   "metadata": {},
   "outputs": [
    {
     "data": {
      "text/plain": [
       "11.0"
      ]
     },
     "execution_count": 3,
     "metadata": {},
     "output_type": "execute_result"
    }
   ],
   "source": [
    "121 ** 0.5"
   ]
  },
  {
   "cell_type": "markdown",
   "metadata": {},
   "source": [
    "En python las cadenas pueden ser formateadas para sustituir o reemplazar cada conjunto de `{}` (llaves) por el valor de formato.\n",
    "\n",
    "Para mayor información sobre los formatos de cadenas visita: https://pyformat.info"
   ]
  },
  {
   "cell_type": "code",
   "execution_count": 5,
   "metadata": {},
   "outputs": [
    {
     "data": {
      "text/plain": [
       "'a=23 b=32'"
      ]
     },
     "execution_count": 5,
     "metadata": {},
     "output_type": "execute_result"
    }
   ],
   "source": [
    "\"a={} b={}\".format(a, b)"
   ]
  },
  {
   "cell_type": "code",
   "execution_count": 6,
   "metadata": {},
   "outputs": [
    {
     "data": {
      "text/plain": [
       "'Hola soy Pepe y tengo 23 años y soy el número 32 de la lista'"
      ]
     },
     "execution_count": 6,
     "metadata": {},
     "output_type": "execute_result"
    }
   ],
   "source": [
    "\"Hola soy Pepe y tengo {} años y soy el número {} de la lista\".format(a, b)"
   ]
  },
  {
   "cell_type": "code",
   "execution_count": 7,
   "metadata": {},
   "outputs": [
    {
     "data": {
      "text/plain": [
       "'X: 123.46'"
      ]
     },
     "execution_count": 7,
     "metadata": {},
     "output_type": "execute_result"
    }
   ],
   "source": [
    "\"X: {:.2f}\".format(123.456789123456789)"
   ]
  },
  {
   "cell_type": "markdown",
   "metadata": {},
   "source": [
    "## Estructuras de control (if, for, while)\n",
    "\n",
    "Las estructuras de control nos permiten guiar el flujo del programa para determinar si ejecutar ciertas líneas de código o repetir una línea de código determinada o indeterminadamente.\n",
    "\n",
    "### IF-ELIF-ELSE\n",
    "\n",
    "La estructura `if-elif-else` nos va a permitir determinar si python ejecuta un bloque de código mediante una condición, la cuál deberá ser un booleano. Las condiciones puden provenir de expresiones lógicas (ej. comparaciones `if a < b:`) o de resultados previos de una variable (ej. `if esPrimo:`)."
   ]
  },
  {
   "cell_type": "code",
   "execution_count": null,
   "metadata": {},
   "outputs": [],
   "source": [
    "# Sintáxis\n",
    "\n",
    "# if condición:\n",
    "#    bloque A\n",
    "# [elif condición N:\n",
    "#    bloque N] *\n",
    "# [else:\n",
    "#    bloque X] 0/1"
   ]
  },
  {
   "cell_type": "markdown",
   "metadata": {},
   "source": [
    "El siguiente ejemplo le solicita su edad al usuario y le muestra un mensaje de si puede o no entrar al antro:"
   ]
  },
  {
   "cell_type": "code",
   "execution_count": 2,
   "metadata": {},
   "outputs": [
    {
     "name": "stdin",
     "output_type": "stream",
     "text": [
      "Dame tu edad 15\n"
     ]
    },
    {
     "name": "stdout",
     "output_type": "stream",
     "text": [
      "Llama a tus papás pequeñin\n"
     ]
    }
   ],
   "source": [
    "# input(...) muestra el mensaje \"...\" y solicita un texto al usuario\n",
    "# int(...) convierte `...` en entero (si puede) \n",
    "edad = int(input(\"Dame tu edad\"))\n",
    "\n",
    "if edad >= 18:\n",
    "    print(\"Puedes entrar al antro\")\n",
    "else:\n",
    "    print(\"Llama a tus papás pequeñin\")"
   ]
  },
  {
   "cell_type": "markdown",
   "metadata": {},
   "source": [
    "> Ejercicio: Calcular el IMC (Índice de Masa Corporal)\n",
    "\n",
    "El IMC (https://es.wikipedia.org/wiki/Índice_de_masa_corporal) se calcula a partir de la división de la masa (peso en kg) de un individuo entre su estatura (en metros) al cuadrado (kg/m^2)."
   ]
  },
  {
   "cell_type": "code",
   "execution_count": 3,
   "metadata": {},
   "outputs": [
    {
     "name": "stdin",
     "output_type": "stream",
     "text": [
      "Dame el peso (kg): 78\n",
      "Dame la estutura (m): 1.5\n"
     ]
    },
    {
     "name": "stdout",
     "output_type": "stream",
     "text": [
      "IMC: 34.67\n",
      "SOBREPESO\n"
     ]
    }
   ],
   "source": [
    "# TODO: Solicitar el peso en kg del sujeto y almacenarlo en una variable\n",
    "peso = float ( input( \"Dame el peso (kg):\" ) )\n",
    "\n",
    "# TODO: Soliciar la estatura en m del sujeto y almacenarlo en una variable\n",
    "estatura = float ( input( \"Dame la estutura (m):\" ) )\n",
    "\n",
    "# TODO: Calcular el IMC y almacenarlo en una variable\n",
    "\n",
    "imc = peso / estatura ** 2\n",
    "\n",
    "# Ej. print( \"IMC: {:.2f}\".format(imc) )\n",
    "\n",
    "print( \"IMC: {:.2f}\".format(imc) )\n",
    "\n",
    "# TODO: De acuerdo a los siguientes rangos determinar y mostrar un mensaje\n",
    "# que indique en que grado de nutrición se encuentra:\n",
    "# - IMC < 18.5: BAJO DE PESO\n",
    "# - 18.5 <= IMC < 25: PESO NORMAL\n",
    "# - OTRO: SOBREPESO\n",
    "\n",
    "if imc < 18.5:\n",
    "    print( \"BAJO DE PESO\" )\n",
    "elif imc < 25:\n",
    "    print( \"PESO NORMAL\" )\n",
    "else:\n",
    "    print( \"SOBREPESO\" )"
   ]
  },
  {
   "cell_type": "markdown",
   "metadata": {},
   "source": [
    "### FOR-IN\n",
    "\n",
    "El ciclo `for` es una estructura de control que nos va a permitir repetir un bloque de código utilizando un `iterador` para retener el siguiente elemento en un `iterable`. El `iterable` puede ser un rango `range` o una colección con datos tradicionalemente."
   ]
  },
  {
   "cell_type": "code",
   "execution_count": 2,
   "metadata": {},
   "outputs": [],
   "source": [
    "# Sintaxis\n",
    "# for iterador in iterando:\n",
    "#    bloque A(iterador)"
   ]
  },
  {
   "cell_type": "markdown",
   "metadata": {},
   "source": [
    "Los rangos nos permiten generar números secuenciales enteros para generar un iterador (el rango se dice que es el iterable o dónde vamos a estar iterando). En su forma común nostros especificamos cuál es el número inicial y en el número límite, teniendo en cuenta que el rango no tocará al límite."
   ]
  },
  {
   "cell_type": "code",
   "execution_count": 3,
   "metadata": {},
   "outputs": [
    {
     "name": "stdout",
     "output_type": "stream",
     "text": [
      "1\n",
      "2\n",
      "3\n",
      "4\n",
      "5\n"
     ]
    }
   ],
   "source": [
    "# Imprime los números del 1 al 5 inclusive o del 1 al 6 excluyendo a 6\n",
    "for i in range(1, 6):\n",
    "    print( i )"
   ]
  },
  {
   "cell_type": "markdown",
   "metadata": {},
   "source": [
    "Podemos también usar una segunda forma para determinar el incremento de los números, por ejemplo, ir de 2 en 2."
   ]
  },
  {
   "cell_type": "code",
   "execution_count": 4,
   "metadata": {},
   "outputs": [
    {
     "name": "stdout",
     "output_type": "stream",
     "text": [
      "1\n",
      "3\n",
      "5\n",
      "7\n",
      "9\n"
     ]
    }
   ],
   "source": [
    "# Imprime los números impares menores a 11 (1, 3, 5, 7, 9)\n",
    "for i in range(1, 11, 2):\n",
    "    print( i )"
   ]
  },
  {
   "cell_type": "markdown",
   "metadata": {},
   "source": [
    "En la tercer forma o la forma natural sólo especificamos el valor límite en el rango y supondremos que el valor inicial es el 0."
   ]
  },
  {
   "cell_type": "code",
   "execution_count": 5,
   "metadata": {},
   "outputs": [
    {
     "name": "stdout",
     "output_type": "stream",
     "text": [
      "0\n",
      "1\n",
      "2\n",
      "3\n",
      "4\n"
     ]
    }
   ],
   "source": [
    "# Imprime los valores desde 0 hasta 4 inclusive [0, 5)\n",
    "for i in range(5):\n",
    "    print( i )"
   ]
  },
  {
   "cell_type": "markdown",
   "metadata": {},
   "source": [
    "> Ejemplo: El siguiente programa suma todos los números menores a 1000"
   ]
  },
  {
   "cell_type": "code",
   "execution_count": 8,
   "metadata": {},
   "outputs": [
    {
     "name": "stdout",
     "output_type": "stream",
     "text": [
      "La suma de 0 a 999 es 499500\n"
     ]
    }
   ],
   "source": [
    "# Creamos un acumulador (una variable de acumulación)\n",
    "# para retener lo que se va sumando\n",
    "s = 0\n",
    "for i in range(1000):\n",
    "    # Lease: `s` se le suma el valor (actual) de `i`\n",
    "    s += i # s = s + i\n",
    "print( \"La suma de 0 a 999 es {}\".format(s) )"
   ]
  },
  {
   "cell_type": "markdown",
   "metadata": {},
   "source": [
    "> Ejercicio: Calcular la suma de las raices de 100 a 200 inclusive el 200\n",
    "\n",
    "Vamos a sumar cada raíz cuadrada desde 100 hasta el 200 inclusive."
   ]
  },
  {
   "cell_type": "code",
   "execution_count": 9,
   "metadata": {},
   "outputs": [
    {
     "name": "stdout",
     "output_type": "stream",
     "text": [
      "1231.0212639252013\n"
     ]
    }
   ],
   "source": [
    "# TODO: Crear un acumulador\n",
    "s = 0\n",
    "\n",
    "# TODO: Recorrer los números desde 100 hasta 200 inclusive\n",
    "for i in range(100, 201):\n",
    "    # TODO: Acumular la raíz cuadrada (potencia 0.5) del iterador\n",
    "    s += i ** 0.5\n",
    "    \n",
    "# TODO: Imprimir la suma acumulada\n",
    "print( s )"
   ]
  },
  {
   "cell_type": "markdown",
   "metadata": {},
   "source": [
    "### WHILE\n",
    "\n",
    "Otro ciclo que podría ser util es `while` el cuál permite repetir un bloque de código indeterminadamente siempre que se cumpla una condición."
   ]
  },
  {
   "cell_type": "code",
   "execution_count": null,
   "metadata": {},
   "outputs": [],
   "source": [
    "# Sintaxis\n",
    "# while condición:\n",
    "#    bloque A"
   ]
  },
  {
   "cell_type": "markdown",
   "metadata": {},
   "source": [
    "Generalmente se suele utilizar `while True:` para repetir siempre un bloque y romperlo manualmente mendiante `break`.\n",
    "\n",
    "> Ejemplo: Suma de números indeterminados"
   ]
  },
  {
   "cell_type": "code",
   "execution_count": 10,
   "metadata": {},
   "outputs": [
    {
     "name": "stdout",
     "output_type": "stream",
     "text": [
      "A continuación se solicitará un número y se ira sumando\n",
      "si el número es negativo el programa terminará\n"
     ]
    },
    {
     "name": "stdin",
     "output_type": "stream",
     "text": [
      "Dame un número [negativo finaliza]: 2\n",
      "Dame un número [negativo finaliza]: 5\n",
      "Dame un número [negativo finaliza]: 7\n",
      "Dame un número [negativo finaliza]: 8\n",
      "Dame un número [negativo finaliza]: -1\n"
     ]
    },
    {
     "name": "stdout",
     "output_type": "stream",
     "text": [
      "22\n"
     ]
    }
   ],
   "source": [
    "print( \"A continuación se solicitará un número y se ira sumando\" )\n",
    "print( \"si el número es negativo el programa terminará\" )\n",
    "\n",
    "s = 0\n",
    "\n",
    "while True:\n",
    "    x = int( input(\"Dame un número [negativo finaliza]:\") )\n",
    "    if x < 0:\n",
    "        break\n",
    "    s += x\n",
    "\n",
    "print( s )"
   ]
  },
  {
   "cell_type": "markdown",
   "metadata": {},
   "source": [
    "## Colecciones (listas, tuplas, diccionarios)\n",
    "\n",
    "Las colecciones son agrupamientos de datos en estructuras uniformes que nos permitirán retener grandes cantidades de datos en una sola varibles. \n",
    "\n",
    "### Listas\n",
    "\n",
    "Las listas son utilizas generalmente (pero no se limitan) a mantener un vectores de valores para poder posteriormente obtener nueva información, por ejemplo, una lista de números con edades o calificaciones, una lista de nombres o apellidos, una lista de valores de temperatura extraídos desde un experiemento, etc.\n",
    "\n",
    "Las listas son como arreglos de datos que tienen la capacidad de crecer y decrecer en el tiempo, además que podemos aplicar operaciones de búsqueda, transformaciones, filtros y reducciones de datos."
   ]
  },
  {
   "cell_type": "code",
   "execution_count": null,
   "metadata": {},
   "outputs": [],
   "source": [
    "# Sintaxis\n",
    "# [ elemento1, elemento2, ..., elementoN ]\n",
    "\n",
    "# Ejemplos\n",
    "# [ 1, 2, 3, 100 ]\n",
    "# [ \"manzana\", \"kiwi\", \"fresa\" ]\n",
    "# [ 1, \"Español\", 25, \"Hombre\" ] # No es buena práctica\n",
    "# [] # Lista vacía"
   ]
  },
  {
   "cell_type": "markdown",
   "metadata": {},
   "source": [
    "> Ejemplo: Almacén de frutas\n",
    "\n",
    "En el siguiente programa partimos de una lista de frutas para ver algunas de las propiedades más importantes de las listas sobre sus índices.\n",
    "\n",
    "Para más información visita: https://www.w3schools.com/python/python_lists.asp"
   ]
  },
  {
   "cell_type": "code",
   "execution_count": 14,
   "metadata": {},
   "outputs": [
    {
     "name": "stdout",
     "output_type": "stream",
     "text": [
      "['fresa', 'guayaba', 'mango']\n",
      "Tamaño: 3\n",
      "fresa\n",
      "mango\n"
     ]
    }
   ],
   "source": [
    "frutas = [ \"fresa\", \"guayaba\", \"mango\" ]\n",
    "\n",
    "print( frutas )\n",
    "\n",
    "# len(lista) - `len` devuelve el número de elementos en `lista`\n",
    "print( \"Tamaño: {}\".format( len(frutas) ) )\n",
    "\n",
    "# lista[i] - devuelve el i-ésimo elemento de `lista`\n",
    "# los elementos en una lista son auto-indexados comenzando en 0\n",
    "print( frutas[0] )\n",
    "\n",
    "# lista[-i] - devuelve el i-ultiésimo elemento de la lista\n",
    "# el índice -1 hace referencia al último elmento, por lo que\n",
    "# el índice -3 significaría el tercer elemento último (en este caso \"fresa\")\n",
    "print( frutas[-1] )\n",
    "\n",
    "# El último índice en una lista es equivalente a `len(lista) - 1`\n",
    "# !! print( frutas[5] ) # Error: el índice está fuera de rango"
   ]
  },
  {
   "cell_type": "markdown",
   "metadata": {},
   "source": [
    "Podemos partir de una lista vacía (o no) y programáticamente podemos seguir agregando elementos con la función `append`.\n",
    "\n",
    "* __`lista.append(x)`__ - agrega el elemento `x` al final de la lista "
   ]
  },
  {
   "cell_type": "code",
   "execution_count": 15,
   "metadata": {},
   "outputs": [
    {
     "name": "stdout",
     "output_type": "stream",
     "text": [
      "['fresa', 'guayaba', 'mango']\n"
     ]
    }
   ],
   "source": [
    "frutas = []\n",
    "\n",
    "frutas.append(\"fresa\")\n",
    "frutas.append(\"guayaba\")\n",
    "frutas.append(\"mango\")\n",
    "\n",
    "print( frutas )"
   ]
  },
  {
   "cell_type": "markdown",
   "metadata": {},
   "source": [
    "Podemos quitar el último elemento de una lista con la función `pop`.\n",
    "\n",
    "* __`lista.pop([i])`__ - quita el último elemento o si se define el i-ésimo elemento."
   ]
  },
  {
   "cell_type": "code",
   "execution_count": 17,
   "metadata": {},
   "outputs": [
    {
     "name": "stdout",
     "output_type": "stream",
     "text": [
      "['guayaba', 'mango', 'limon']\n"
     ]
    }
   ],
   "source": [
    "frutas = [\"fresa\", \"guayaba\", \"mango\", \"limon\", \"fresa\"]\n",
    "\n",
    "frutas.pop(0)\n",
    "frutas.pop()\n",
    "\n",
    "print( frutas )"
   ]
  },
  {
   "cell_type": "markdown",
   "metadata": {},
   "source": [
    "Podemos quitar el primer elemento que coíncida mediante `remove`. Advertencia: si el elemento a quitar no existe genera un error, por lo cuál podríamos preguntar antes si el elemento se encuentra en la lista.\n",
    "\n",
    "* __`lista.remove(x)`__: quita el primer elemento `x` en la lista o truena."
   ]
  },
  {
   "cell_type": "code",
   "execution_count": 18,
   "metadata": {},
   "outputs": [
    {
     "name": "stdout",
     "output_type": "stream",
     "text": [
      "['fresa', 'mango', 'limon', 'fresa']\n"
     ]
    }
   ],
   "source": [
    "frutas = [\"fresa\", \"guayaba\", \"mango\", \"limon\", \"fresa\"]\n",
    "\n",
    "frutas.remove(\"guayaba\")\n",
    "\n",
    "print( frutas )"
   ]
  },
  {
   "cell_type": "code",
   "execution_count": 19,
   "metadata": {},
   "outputs": [
    {
     "name": "stdout",
     "output_type": "stream",
     "text": [
      "['guayaba', 'mango', 'limon']\n"
     ]
    }
   ],
   "source": [
    "frutas = [\"fresa\", \"guayaba\", \"mango\", \"limon\", \"fresa\"]\n",
    "\n",
    "while \"fresa\" in frutas:\n",
    "    frutas.remove(\"fresa\")\n",
    "    \n",
    "print( frutas )"
   ]
  },
  {
   "cell_type": "markdown",
   "metadata": {},
   "source": [
    "Observa que `x in lista` devuelve un booleano que determina `True` si el elemento `x` está en la lista o `False` en caso contrario.\n",
    "\n",
    "Podemos generar listas de listas para reprentar datos más complicados."
   ]
  },
  {
   "cell_type": "code",
   "execution_count": 20,
   "metadata": {},
   "outputs": [
    {
     "name": "stdout",
     "output_type": "stream",
     "text": [
      "[[1, 2, 3], [4, 5, 6], [7, 8, 9]]\n"
     ]
    }
   ],
   "source": [
    "mat = [\n",
    "    [1, 2, 3],\n",
    "    [4, 5, 6],\n",
    "    [7, 8, 9]\n",
    "]\n",
    "\n",
    "print( mat )"
   ]
  },
  {
   "cell_type": "markdown",
   "metadata": {},
   "source": [
    "Podemos insertar elementos en una posición determinada con `insert`.\n",
    "\n",
    "* __`lista.insert(i, x)`__: inserta el elmento `x` en la i-ésima posición (en dónde está el índice `i`)."
   ]
  },
  {
   "cell_type": "code",
   "execution_count": 21,
   "metadata": {},
   "outputs": [
    {
     "name": "stdout",
     "output_type": "stream",
     "text": [
      "['fresa', 'guayaba', 'melón', 'mango', 'limon', 'fresa']\n"
     ]
    }
   ],
   "source": [
    "frutas = [\"fresa\", \"guayaba\", \"mango\", \"limon\", \"fresa\"]\n",
    "\n",
    "frutas.insert(2, \"melón\")\n",
    "\n",
    "print( frutas )"
   ]
  },
  {
   "cell_type": "markdown",
   "metadata": {},
   "source": [
    "> Ejemplo: Ordenar una lista de números\n",
    "\n",
    "Para ordenar una lista podemos construir una nueva lista que ya esté ordenada al final del algoritmo siguiedo los pasos:\n",
    "\n",
    "* 1. Definir la lista a ordenar -> (A)\n",
    "* 2. Crear una lista vacía -> (B)\n",
    "* 3. Mientras la lista (A) tenga elementos:\n",
    "    * 3.1 Obtener el elemento menor de (A) -> (x)\n",
    "    * 3.2 Quitar el elemento (x) de la lista (A)\n",
    "    * 3.3 Agregar el elemento (x) a la lista (B)\n",
    "* 4. Mostrar la lista (B) que ya está ordenada"
   ]
  },
  {
   "cell_type": "code",
   "execution_count": 23,
   "metadata": {},
   "outputs": [
    {
     "name": "stdout",
     "output_type": "stream",
     "text": [
      "[4, 3, 5, 7, 6, 8, 1, 2, 9, 0]\n",
      "[0, 1, 2, 3, 4, 5, 6, 7, 8, 9]\n"
     ]
    }
   ],
   "source": [
    "A = [4, 3, 5, 7, 6, 8, 1, 2, 9, 0]\n",
    "print( A )\n",
    "B = []\n",
    "while len(A) > 0:\n",
    "    x = min(A)\n",
    "    A.remove(x)\n",
    "    B.append(x)\n",
    "print( B )"
   ]
  },
  {
   "cell_type": "markdown",
   "metadata": {},
   "source": [
    "### Tuplas (Empaquetadores / Empacadores / Paquetes)\n",
    "\n",
    "Las tuplas son colecciones ordenadas que nos permiten empacar un conjunto finito de variables para transportarlas más fácilemente. Imagina que tienes dos o tres variables y quieres regresar en una función o mantenerlas juntas en una lista, la forma de hacerlo sería estructurando un paquete que contenga nuestras variables `empacadas`. No se recomienda crear tuplas grandes de más de 5 elementos porque se vuelven díficiles de interpretar (en tal caso usa listas). Las tuplas no permiten modificar sus elementos (solo son transportadores o contenedores fijos), pero si permiten el acceso por índice como en las listas. Una tupla que empaqueta dos elementos se llamará una `dos-tupla`, una tupla con tres elementos será una `tres-tupla` y así sucesivamente."
   ]
  },
  {
   "cell_type": "code",
   "execution_count": null,
   "metadata": {},
   "outputs": [],
   "source": [
    "# Sintaxis\n",
    "\n",
    "# t = (elemento1, elemento2, ..., elementoK)"
   ]
  },
  {
   "cell_type": "markdown",
   "metadata": {},
   "source": [
    "> Ejemplo: Crear una tupla con dos variables que se refieren a un punto cardinal"
   ]
  },
  {
   "cell_type": "code",
   "execution_count": 4,
   "metadata": {},
   "outputs": [],
   "source": [
    "punto = (3, 4)\n",
    "\n",
    "# En algún otro lugar de código podemos recibir la tupla `punto` y desempaquetarla\n",
    "\n",
    "# `punto` es una `dos-tupla` por lo que para desempacarla necesitamos dos variables\n",
    "\n",
    "x, y = punto"
   ]
  },
  {
   "cell_type": "markdown",
   "metadata": {},
   "source": [
    "Observa que en el ejemplo se crea una `dos-tupla` para después ser desempaquetada en dos variables, esto es muy útil para transportar información en paquetes específicos de tamaño fijo."
   ]
  },
  {
   "cell_type": "markdown",
   "metadata": {},
   "source": [
    "> Ejemplo: Invertir los valores de dos variables mediante tuplas"
   ]
  },
  {
   "cell_type": "code",
   "execution_count": 7,
   "metadata": {},
   "outputs": [
    {
     "name": "stdout",
     "output_type": "stream",
     "text": [
      "a=456, b=123\n"
     ]
    }
   ],
   "source": [
    "a = 123\n",
    "b = 456\n",
    "\n",
    "# `a` = `b` al mismo tiempo `b` = `a` \n",
    "a, b = (b, a)\n",
    "\n",
    "print(\"a={}, b={}\".format(a, b))"
   ]
  },
  {
   "cell_type": "markdown",
   "metadata": {},
   "source": [
    "Observa que podemos usar las tuplas para intercambiar el valor de variables.\n",
    "\n",
    "### Diccionarios\n",
    "\n",
    "Los diccionarios son colecciones que retienen valores en índices específicos llamados `claves`, es decir, un diccionario va a almacenar o retener valores en claves específicas dadas por el usuario. Los diccionarios se construyen a partir de llaves `{}` y definen parejas de `clave-valor` mediante la sintaxis `clave: valor` y su acceso siempre es por la clave."
   ]
  },
  {
   "cell_type": "code",
   "execution_count": 8,
   "metadata": {},
   "outputs": [],
   "source": [
    "# Sintaxis\n",
    "# d = { \"clave1\": valor1, \"calve2\": valor2, ..., \"claveN\": valorN }"
   ]
  },
  {
   "cell_type": "markdown",
   "metadata": {},
   "source": [
    "> Ejemplo: Retener los datos de una persona en un diccionario"
   ]
  },
  {
   "cell_type": "code",
   "execution_count": 9,
   "metadata": {},
   "outputs": [
    {
     "name": "stdout",
     "output_type": "stream",
     "text": [
      "{'nombre': 'Conchis', 'edad': 90, 'correo': 'conchis@aol.com', 'latlon': (-90, 89.15), 'frutas': ['manzana', 'pera', 'kiwi'], 'dirección': {'calle': 'Av. Siempre Viva', 'num': 123}}\n"
     ]
    }
   ],
   "source": [
    "persona = {\n",
    "    \"nombre\": \"Conchis\",\n",
    "    \"edad\": 90,\n",
    "    \"correo\": \"conchis@aol.com\",\n",
    "    \"latlon\": (-90, 89.15),\n",
    "    \"frutas\": [\"manzana\", \"pera\", \"kiwi\"],\n",
    "    \"dirección\": {\n",
    "        \"calle\": \"Av. Siempre Viva\",\n",
    "        \"num\": 123\n",
    "    }\n",
    "}\n",
    "\n",
    "print(persona)"
   ]
  },
  {
   "cell_type": "markdown",
   "metadata": {},
   "source": [
    "Para acceder a los datos almacenados en el diccionario debemos hacer forzamente a tráves de la clave (tal cual se definió)."
   ]
  },
  {
   "cell_type": "code",
   "execution_count": 15,
   "metadata": {},
   "outputs": [
    {
     "name": "stdout",
     "output_type": "stream",
     "text": [
      "Conchis\n",
      "90\n",
      "conchis@aol.com\n",
      "(-90, 89.15)\n",
      "['manzana', 'pera', 'kiwi']\n",
      "{'calle': 'Av. Siempre Viva', 'num': 123}\n"
     ]
    }
   ],
   "source": [
    "print( persona[\"nombre\"] )\n",
    "print( persona[\"edad\"] )\n",
    "print( persona[\"correo\"] )\n",
    "print( persona[\"latlon\"] )\n",
    "print( persona[\"frutas\"] )\n",
    "print( persona[\"dirección\"] )"
   ]
  },
  {
   "cell_type": "markdown",
   "metadata": {},
   "source": [
    "Podemos hacer acceso multiple navegando en los objetos almacenados siempre y cuándo recordemos su estructura."
   ]
  },
  {
   "cell_type": "code",
   "execution_count": 16,
   "metadata": {},
   "outputs": [
    {
     "name": "stdout",
     "output_type": "stream",
     "text": [
      "Av. Siempre Viva\n"
     ]
    }
   ],
   "source": [
    "print( persona[\"dirección\"][\"calle\"] )"
   ]
  },
  {
   "cell_type": "markdown",
   "metadata": {},
   "source": [
    "Oberva que navegamos a la clave `persona[\"dirección\"]` y eso nos devuelve otro diccionario por lo que podemos navegar en profundidad a la siguiente clave (del otro diccionario) que es `(...)[\"calle\"]`."
   ]
  },
  {
   "cell_type": "code",
   "execution_count": 17,
   "metadata": {},
   "outputs": [
    {
     "name": "stdout",
     "output_type": "stream",
     "text": [
      "kiwi\n"
     ]
    }
   ],
   "source": [
    "print( persona[\"frutas\"][-1] )"
   ]
  },
  {
   "cell_type": "markdown",
   "metadata": {},
   "source": [
    "Observa que en el código anterior navegamos a la clave `frutas` la cuál nos devuelve una lista de las frutas e inmediatamente accedemos al último índice de esa lista de frutas. Eso sería equivalente a lo siguiente:"
   ]
  },
  {
   "cell_type": "code",
   "execution_count": 19,
   "metadata": {},
   "outputs": [
    {
     "name": "stdout",
     "output_type": "stream",
     "text": [
      "['manzana', 'pera', 'kiwi']\n",
      "kiwi\n"
     ]
    }
   ],
   "source": [
    "frutas = persona[\"frutas\"]\n",
    "print( frutas )\n",
    "print( frutas[-1] )"
   ]
  },
  {
   "cell_type": "markdown",
   "metadata": {},
   "source": [
    "Podemos utilizar algunos métodos útiles sobre los diccionarios que puedes consultar en https://www.w3schools.com/python/python_dictionaries.asp\n",
    "\n",
    "> Ejemplo: Recuperar claves, valores y elementos"
   ]
  },
  {
   "cell_type": "code",
   "execution_count": 22,
   "metadata": {},
   "outputs": [
    {
     "name": "stdout",
     "output_type": "stream",
     "text": [
      "['nombre', 'edad', 'correo', 'latlon', 'frutas', 'dirección']\n"
     ]
    }
   ],
   "source": [
    "print( list(persona.keys()) )"
   ]
  },
  {
   "cell_type": "code",
   "execution_count": 25,
   "metadata": {},
   "outputs": [
    {
     "name": "stdout",
     "output_type": "stream",
     "text": [
      "['Conchis', 90, 'conchis@aol.com', (-90, 89.15), ['manzana', 'pera', 'kiwi'], {'calle': 'Av. Siempre Viva', 'num': 123}]\n"
     ]
    }
   ],
   "source": [
    "print( list(persona.values()) )"
   ]
  },
  {
   "cell_type": "code",
   "execution_count": 26,
   "metadata": {},
   "outputs": [
    {
     "name": "stdout",
     "output_type": "stream",
     "text": [
      "[('nombre', 'Conchis'), ('edad', 90), ('correo', 'conchis@aol.com'), ('latlon', (-90, 89.15)), ('frutas', ['manzana', 'pera', 'kiwi']), ('dirección', {'calle': 'Av. Siempre Viva', 'num': 123})]\n"
     ]
    }
   ],
   "source": [
    "print( list( persona.items() ) )"
   ]
  },
  {
   "cell_type": "markdown",
   "metadata": {},
   "source": [
    "## Funciones\n",
    "\n",
    "Una función es una estructura que se compone de un `nombre`, `parámetros` de entrada, un `bloque de código` y una `directiva de salida *return*`, es decir, es un molde o caja que recibe multiples entradas para producir una única salida."
   ]
  },
  {
   "cell_type": "code",
   "execution_count": 27,
   "metadata": {},
   "outputs": [],
   "source": [
    "# Sintaxis\n",
    "# def nombre([paramétron1, paramétro2, ..., parámetroN]):\n",
    "#   bloque A (paramétron1, paramétro2, ..., parámetroN)\n",
    "#   return salida"
   ]
  },
  {
   "cell_type": "markdown",
   "metadata": {},
   "source": [
    "> Ejemplo: Crear un función que devuelva el cuadrado de un elemento"
   ]
  },
  {
   "cell_type": "code",
   "execution_count": 28,
   "metadata": {},
   "outputs": [],
   "source": [
    "def cuadrado(x):\n",
    "    return x ** 2"
   ]
  },
  {
   "cell_type": "markdown",
   "metadata": {},
   "source": [
    "Al definir la función está estará disponible en el código siguiente. Observa que se define la función `cuadrado` la cuál recibe un parámetro llamado `x` y devuelve como salida el parámetro `x` elvado al cuadrado. Si la función no establece ninguna salida (ningún `return`) está devolverá `None` por defecto.\n",
    "\n",
    "Para llamar a un función bastará indicar su nombre y establecer los valores de los parámetros de entrada a la función entre paréntesis."
   ]
  },
  {
   "cell_type": "code",
   "execution_count": 29,
   "metadata": {},
   "outputs": [
    {
     "name": "stdout",
     "output_type": "stream",
     "text": [
      "10000\n"
     ]
    }
   ],
   "source": [
    "print( cuadrado(100) )"
   ]
  },
  {
   "cell_type": "code",
   "execution_count": 30,
   "metadata": {},
   "outputs": [
    {
     "name": "stdout",
     "output_type": "stream",
     "text": [
      "a=12, a^2=144\n"
     ]
    }
   ],
   "source": [
    "a = 12\n",
    "a2 = cuadrado(a)\n",
    "\n",
    "print(\"a={}, a^2={}\".format(a, a2))"
   ]
  },
  {
   "cell_type": "markdown",
   "metadata": {},
   "source": [
    "Debemos tener cuidado con las variables no primitivas (las primitivas son `int`, `float`, `str`, `bool`, `None`), porque dentro función se pasan como referencias, es decir, que nos referimos al mismo objeto (no primitivo) y no a una copia de él.\n",
    "\n",
    "> Ejemplo: Crear un función que rellene una lista con `N` números aleatorios."
   ]
  },
  {
   "cell_type": "code",
   "execution_count": 31,
   "metadata": {},
   "outputs": [],
   "source": [
    "import random\n",
    "\n",
    "# A - Una lista\n",
    "# N - Número de elementos a agregar a la lista A\n",
    "# Nota: A es una lista (es no-primitiva) por lo que se pasa por referencia\n",
    "# Nota: La referencia significa que A es un alias (sinónimo) a una variable\n",
    "#   que se encuentre fuera de la función\n",
    "# Nota: Lo que le pase a A, le pasará a quién se encuentre fuera\n",
    "def llenar_aleatorios(A, N):\n",
    "    for i in range(N):\n",
    "        x = random.random()\n",
    "        A.append(x) # Agrega el numéro aleatoria a la lista referida"
   ]
  },
  {
   "cell_type": "code",
   "execution_count": 35,
   "metadata": {},
   "outputs": [
    {
     "name": "stdout",
     "output_type": "stream",
     "text": [
      "[0.1, 0.4, 0.5, 0.6, 0.7684161640655479, 0.0363861450614229, 0.9242664877738193]\n"
     ]
    }
   ],
   "source": [
    "probabilidades = [0.1, 0.4, 0.5, 0.6]\n",
    "\n",
    "# Probabilidades es una lista (no-primitiva) por lo que\n",
    "# será pasada a la función como referencia\n",
    "# `A` dentro de la función se refiere (es un alias) a `probabilidades`\n",
    "llenar_aleatorios(probabilidades, 3)\n",
    "\n",
    "print(probabilidades)"
   ]
  },
  {
   "cell_type": "markdown",
   "metadata": {},
   "source": [
    "> Ejemplo: Crear una función que reciba una lista de números escalares y devuelva un diccionario con estadísticos sencillos sobre la lista de escalares."
   ]
  },
  {
   "cell_type": "code",
   "execution_count": 37,
   "metadata": {},
   "outputs": [],
   "source": [
    "# ENTRADA:\n",
    "# a - lista de números escalares\n",
    "# SALIDA:\n",
    "# diccionario con las claves [\"min\", \"max\", \"sum\", \"sum2\", \"avg\", \"var\", \"sd\"]\n",
    "def stats(a):\n",
    "    n = len(a)\n",
    "    mina = min(a)\n",
    "    maxa = max(a)\n",
    "    suma = sum(a) # suma xi\n",
    "    promedio = float(suma) / n # suma xi / n => xp\n",
    "    suma2 = sum([ (x - promedio) ** 2 for x in a ]) # suma (x - xp)^2\n",
    "    var = suma2 / (n - 1)\n",
    "    des = var ** 0.5\n",
    "    return {\n",
    "        \"min\": mina,\n",
    "        \"max\": maxa,\n",
    "        \"sum\": suma,\n",
    "        \"avg\": promedio,\n",
    "        \"sum2\": suma2,\n",
    "        \"var\": var,\n",
    "        \"sd\": des\n",
    "    }"
   ]
  },
  {
   "cell_type": "code",
   "execution_count": 38,
   "metadata": {},
   "outputs": [
    {
     "name": "stdout",
     "output_type": "stream",
     "text": [
      "{'min': 1, 'max': 7, 'sum': 63, 'avg': 3.7058823529411766, 'sum2': 37.52941176470587, 'var': 2.345588235294117, 'sd': 1.5315313367000092}\n"
     ]
    }
   ],
   "source": [
    "print ( stats([3, 4, 5, 2, 3, 1, 6, 7, 5, 4, 5, 3, 3, 4, 3, 2, 3]) )"
   ]
  },
  {
   "cell_type": "markdown",
   "metadata": {},
   "source": [
    "## Módulos\n",
    "\n",
    "Cualquier achivo de python es un módulo o se puede importar como si se tratara de un módulo, esto quiere decir que todas las variables, funciones y clases definidas en un archivo python puedes ser utilizadas dentro de otro python con diferentes métodos de importación.\n",
    "\n",
    "**Nota:** Cuándo se desee que un archivo de python sea utilizado como módulo es conveniente `no usar código ejecutable`, es decir, limitarse a sólo definir cosas, como funciones utiles principalmente.\n",
    "\n",
    "Existen tres formas de importación:\n",
    "\n",
    "* Importación nombrada (canónica)\n",
    "* Importación sinónima (de alias)\n",
    "* Importación por partes (parcial)"
   ]
  },
  {
   "cell_type": "markdown",
   "metadata": {},
   "source": [
    "> Ejemplo: Importación nombrada (canónica)"
   ]
  },
  {
   "cell_type": "code",
   "execution_count": null,
   "metadata": {},
   "outputs": [],
   "source": [
    "# Supongamos que en tu carpeta se encuantra un archivo llamado `foo.py`\n",
    "\n",
    "import foo\n",
    "\n",
    "# foo.stats([...])\n",
    "# foo.suma(1, 3)\n",
    "# foo.llenar_aleatorios([...], ...)"
   ]
  },
  {
   "cell_type": "markdown",
   "metadata": {},
   "source": [
    "Observa que importamos el supuesto archivo `foo.py` dentro de nuestro código para utilizar las funciones definidas en el archivo `foo`.\n",
    "\n",
    "> Ejemplo: Importación sinónima (de alias)"
   ]
  },
  {
   "cell_type": "code",
   "execution_count": null,
   "metadata": {},
   "outputs": [],
   "source": [
    "# Supongamos que en tu carpeta se encuantra un archivo llamado `foo.py`\n",
    "\n",
    "import foo as bar\n",
    "\n",
    "# bar.stats([...])\n",
    "# bar.suma(1, 3)\n",
    "# bar.llenar_aleatorios([...], ...)\n",
    "\n",
    "# foo = 123"
   ]
  },
  {
   "cell_type": "markdown",
   "metadata": {},
   "source": [
    "Observa que al módulo `foo` ahora lo identificamos por `bar`.\n",
    "\n",
    "> Ejemplo: Importación por partes (parcial)"
   ]
  },
  {
   "cell_type": "code",
   "execution_count": null,
   "metadata": {},
   "outputs": [],
   "source": [
    "# Supongamos que en tu carpeta se encuantra un archivo llamado `foo.py`\n",
    "\n",
    "from foo import stats\n",
    "\n",
    "# stats([...])\n",
    "\n",
    "# from foo import * # Importa todos los elementos"
   ]
  },
  {
   "cell_type": "markdown",
   "metadata": {},
   "source": [
    "Observa que esta última forma de importación nos permite usar los elementos (partes) del módulo como si se hubieran definido en este mismo código."
   ]
  }
 ],
 "metadata": {
  "kernelspec": {
   "display_name": "Python 3",
   "language": "python",
   "name": "python3"
  },
  "language_info": {
   "codemirror_mode": {
    "name": "ipython",
    "version": 3
   },
   "file_extension": ".py",
   "mimetype": "text/x-python",
   "name": "python",
   "nbconvert_exporter": "python",
   "pygments_lexer": "ipython3",
   "version": "3.7.1"
  }
 },
 "nbformat": 4,
 "nbformat_minor": 2
}
