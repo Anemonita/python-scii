{
 "cells": [
  {
   "cell_type": "markdown",
   "metadata": {},
   "source": [
    "# 1. Introducción a Python\n",
    "\n",
    "Alan Badillo Salas (badillo.soft@hotmail.com)\n",
    "\n",
    "## Contenido\n",
    "\n",
    "* Estructuración de datos (tipos de datos y variables)\n",
    "\n",
    "* Estructuras de control (if, for, while)\n",
    "\n",
    "* Colecciones (listas, tuplas, diccionarios)\n",
    "\n",
    "* Funciones\n",
    "\n",
    "* Módulos"
   ]
  },
  {
   "cell_type": "markdown",
   "metadata": {},
   "source": [
    "## Estructuración de datos (tipos de datos y variables)\n",
    "\n",
    "Las variables son nombre que etiquetan direcciones de memoria para acceder a datos almacenados, dichos datos tienen asociado un tipo de dato (es el formato en el que se almacenan los datos). En python podemos almacenar datos _primitivos_ en los siguientes tiepos de datos:\n",
    "\n",
    "* `int` - Número entero de longitud variable (123)\n",
    "* `float` - Número decimal de longitud variable (123.456)\n",
    "* `complex` - Número imaginario indicado por `j` no por `i` (1 + 3j)\n",
    "* `str` - Cadena de texto o `string` de longitud variable (\"hola\" p 'hola')\n",
    "* `bool` - Valor lógico o booleano que almacena `True` o `False`\n",
    "* `None` - Valor no significativo que almacena `None`\n",
    "* `byte` - Valor que almacena 1 byte de información (8 bits == 255 posibilidades)\n",
    "\n",
    "Para declarar una variable bastará con colocar un nombre y asignarle un valor, si las variables son primitivas generarán copias de sus valores y si son no primitivas entonces generarán referencias."
   ]
  },
  {
   "cell_type": "markdown",
   "metadata": {},
   "source": [
    "> Ejemplo: El siguiente programa crea dos variables e imprime su suma."
   ]
  },
  {
   "cell_type": "code",
   "execution_count": 1,
   "metadata": {},
   "outputs": [
    {
     "data": {
      "text/plain": [
       "55"
      ]
     },
     "execution_count": 1,
     "metadata": {},
     "output_type": "execute_result"
    }
   ],
   "source": [
    "a = 23\n",
    "b = 32\n",
    "\n",
    "a + b"
   ]
  },
  {
   "cell_type": "markdown",
   "metadata": {},
   "source": [
    "> Podemos realizar operaciones aritméticas entre variables"
   ]
  },
  {
   "cell_type": "code",
   "execution_count": 2,
   "metadata": {},
   "outputs": [
    {
     "data": {
      "text/plain": [
       "37608910510519071039902074217516707306379521"
      ]
     },
     "execution_count": 2,
     "metadata": {},
     "output_type": "execute_result"
    }
   ],
   "source": [
    "a ** b # a vale 23 de la celda anterior"
   ]
  },
  {
   "cell_type": "code",
   "execution_count": 3,
   "metadata": {},
   "outputs": [
    {
     "data": {
      "text/plain": [
       "11.0"
      ]
     },
     "execution_count": 3,
     "metadata": {},
     "output_type": "execute_result"
    }
   ],
   "source": [
    "121 ** 0.5"
   ]
  },
  {
   "cell_type": "markdown",
   "metadata": {},
   "source": [
    "En python las cadenas pueden ser formateadas para sustituir o reemplazar cada conjunto de `{}` (llaves) por el valor de formato.\n",
    "\n",
    "Para mayor información sobre los formatos de cadenas visita: https://pyformat.info"
   ]
  },
  {
   "cell_type": "code",
   "execution_count": 5,
   "metadata": {},
   "outputs": [
    {
     "data": {
      "text/plain": [
       "'a=23 b=32'"
      ]
     },
     "execution_count": 5,
     "metadata": {},
     "output_type": "execute_result"
    }
   ],
   "source": [
    "\"a={} b={}\".format(a, b)"
   ]
  },
  {
   "cell_type": "code",
   "execution_count": 6,
   "metadata": {},
   "outputs": [
    {
     "data": {
      "text/plain": [
       "'Hola soy Pepe y tengo 23 años y soy el número 32 de la lista'"
      ]
     },
     "execution_count": 6,
     "metadata": {},
     "output_type": "execute_result"
    }
   ],
   "source": [
    "\"Hola soy Pepe y tengo {} años y soy el número {} de la lista\".format(a, b)"
   ]
  },
  {
   "cell_type": "code",
   "execution_count": 7,
   "metadata": {},
   "outputs": [
    {
     "data": {
      "text/plain": [
       "'X: 123.46'"
      ]
     },
     "execution_count": 7,
     "metadata": {},
     "output_type": "execute_result"
    }
   ],
   "source": [
    "\"X: {:.2f}\".format(123.456789123456789)"
   ]
  },
  {
   "cell_type": "markdown",
   "metadata": {},
   "source": [
    "## Estructuras de control (if, for, while)\n",
    "\n",
    "Las estructuras de control nos permiten guiar el flujo del programa para determinar si ejecutar ciertas líneas de código o repetir línea de código determinada o indeterminadamente.\n",
    "\n",
    "La estructura `if-elif-else` nos va a permitir determinar si python ejecuta un bloque de código mediante una condición, la cuál deberá ser un booleano. Las condiciones puden provenir de expresiones lógicas (ej. comparaciones `if a < b:`) o de resultados previos de una variable (ej. `if esPrimo:`)."
   ]
  },
  {
   "cell_type": "code",
   "execution_count": null,
   "metadata": {},
   "outputs": [],
   "source": [
    "# Sintáxis\n",
    "\n",
    "# if condición:\n",
    "#    bloque A\n",
    "# [elif condición N:\n",
    "#    bloque N] *\n",
    "# [else:\n",
    "#    bloque X] 0/1"
   ]
  },
  {
   "cell_type": "markdown",
   "metadata": {},
   "source": [
    "El siguiente ejemplo le solicita su edad al usuario y le muestra un mensaje de si puede o no entrar al antro:"
   ]
  },
  {
   "cell_type": "code",
   "execution_count": 9,
   "metadata": {},
   "outputs": [
    {
     "name": "stdin",
     "output_type": "stream",
     "text": [
      "Dame tu edad 23\n"
     ]
    },
    {
     "name": "stdout",
     "output_type": "stream",
     "text": [
      "Puedes entrar al antro\n"
     ]
    }
   ],
   "source": [
    "# input(...) muestra el mensaje \"...\" y solicita un texto al usuario\n",
    "# int(...) convierte `...` en entero (si puedo) \n",
    "edad = int(input(\"Dame tu edad\"))\n",
    "\n",
    "if edad >= 18:\n",
    "    print(\"Puedes entrar al antro\")\n",
    "else:\n",
    "    print(\"Llama a tus papás pequeñin\")"
   ]
  },
  {
   "cell_type": "markdown",
   "metadata": {},
   "source": [
    "> Ejercicio: Calcular el IMC (Índice de Masa Corporal)\n",
    "\n",
    "El IMC (https://es.wikipedia.org/wiki/Índice_de_masa_corporal) se calcula a partir de la división de la masa (peso en kg) de un individuo entre su estatura (en metros) al cuadrado (kg/m^2)."
   ]
  },
  {
   "cell_type": "code",
   "execution_count": 1,
   "metadata": {},
   "outputs": [
    {
     "name": "stdin",
     "output_type": "stream",
     "text": [
      "Dame el peso (kg): 78\n",
      "Dame la estutura (m): 1.6\n"
     ]
    },
    {
     "name": "stdout",
     "output_type": "stream",
     "text": [
      "IMC: 30.47\n",
      "SOBREPESO\n"
     ]
    }
   ],
   "source": [
    "# TODO: Solicitar el peso en kg del sujeto y almacenarlo en una variable\n",
    "peso = float ( input( \"Dame el peso (kg):\" ) )\n",
    "\n",
    "# TODO: Soliciar la estatura en m del sujeto y almacenarlo en una variable\n",
    "estatura = float ( input( \"Dame la estutura (m):\" ) )\n",
    "\n",
    "# TODO: Calcular el IMC y almacenarlo en una variable\n",
    "\n",
    "imc = peso / estatura ** 2\n",
    "\n",
    "# Ej. print( \"IMC: {:.2f}\".format(imc) )\n",
    "\n",
    "print( \"IMC: {:.2f}\".format(imc) )\n",
    "\n",
    "# TODO: De acuerdo a los siguientes rangos determinar y mostrar un mensaje\n",
    "# que indique en que grado de nutrición se encuentra:\n",
    "# - IMC < 18.5: BAJO DE PESO\n",
    "# - 18.5 <= IMC < 25: PESO NORMAL\n",
    "# - OTRO: SOBREPESO\n",
    "\n",
    "if imc < 18.5:\n",
    "    print( \"BAJO DE PESO\" )\n",
    "elif imc < 25:\n",
    "    print( \"PESO NORMAL\" )\n",
    "else:\n",
    "    print( \"SOBREPESO\" )"
   ]
  },
  {
   "cell_type": "markdown",
   "metadata": {},
   "source": [
    "El ciclo `for` es una estructura de control que nos va a permitir repetir un bloque de código utilizando un `iterador` para retener el siguiente elemento en un `iterable`. El `iterable` puede ser un rango `range` o una colección con datos tradicionalemente."
   ]
  },
  {
   "cell_type": "code",
   "execution_count": 2,
   "metadata": {},
   "outputs": [],
   "source": [
    "# Sintaxis\n",
    "# for iterador in iterando:\n",
    "#    bloque A(iterador)"
   ]
  },
  {
   "cell_type": "markdown",
   "metadata": {},
   "source": [
    "Los rangos nos permiten generar números secuenciales enteros para generar un iterador (el rango se dice que es el iterable o dónde vamos a estar iterando). En su forma común nostros especificamos cuál es el número inicial y en el número límite, teniendo en cuenta que el rango no tocará al límite."
   ]
  },
  {
   "cell_type": "code",
   "execution_count": 3,
   "metadata": {},
   "outputs": [
    {
     "name": "stdout",
     "output_type": "stream",
     "text": [
      "1\n",
      "2\n",
      "3\n",
      "4\n",
      "5\n"
     ]
    }
   ],
   "source": [
    "# Imprime los números del 1 al 5 inclusive o del 1 al 6 excluyendo a 6\n",
    "for i in range(1, 6):\n",
    "    print( i )"
   ]
  },
  {
   "cell_type": "markdown",
   "metadata": {},
   "source": [
    "Podemos también usar una segunda forma para determinar el incremento de los números, por ejemplo, ir de 2 en 2."
   ]
  },
  {
   "cell_type": "code",
   "execution_count": 4,
   "metadata": {},
   "outputs": [
    {
     "name": "stdout",
     "output_type": "stream",
     "text": [
      "1\n",
      "3\n",
      "5\n",
      "7\n",
      "9\n"
     ]
    }
   ],
   "source": [
    "# Imprime los números impares menores a 11 (1, 3, 5, 7, 9)\n",
    "for i in range(1, 11, 2):\n",
    "    print( i )"
   ]
  },
  {
   "cell_type": "markdown",
   "metadata": {},
   "source": [
    "En la tercer forma o la forma natural sólo especificamos el valor límite en el rango y supondremos que el valor inicial es el 0."
   ]
  },
  {
   "cell_type": "code",
   "execution_count": 5,
   "metadata": {},
   "outputs": [
    {
     "name": "stdout",
     "output_type": "stream",
     "text": [
      "0\n",
      "1\n",
      "2\n",
      "3\n",
      "4\n"
     ]
    }
   ],
   "source": [
    "# Imprime los valores desde 0 hasta 4 inclusive [0, 5)\n",
    "for i in range(5):\n",
    "    print( i )"
   ]
  },
  {
   "cell_type": "markdown",
   "metadata": {},
   "source": [
    "> Ejemplo: El siguiente programa suma todos los números menores a 1000"
   ]
  },
  {
   "cell_type": "code",
   "execution_count": 8,
   "metadata": {},
   "outputs": [
    {
     "name": "stdout",
     "output_type": "stream",
     "text": [
      "La suma de 0 a 999 es 499500\n"
     ]
    }
   ],
   "source": [
    "# Creamos un acumulador (una variable de acumulación)\n",
    "# para retener lo que se va sumando\n",
    "s = 0\n",
    "for i in range(1000):\n",
    "    # Lease: `s` se le suma el valor (actual) de `i`\n",
    "    s += i # s = s + i\n",
    "print( \"La suma de 0 a 999 es {}\".format(s) )"
   ]
  },
  {
   "cell_type": "markdown",
   "metadata": {},
   "source": [
    "> Ejercicio: Calcular la suma de las raices de 100 a 200 inclusive el 200\n",
    "\n",
    "Vamos a sumar cada raíz cuadrada desde 100 hasta el 200 inclusive."
   ]
  },
  {
   "cell_type": "code",
   "execution_count": 9,
   "metadata": {},
   "outputs": [
    {
     "name": "stdout",
     "output_type": "stream",
     "text": [
      "1231.0212639252013\n"
     ]
    }
   ],
   "source": [
    "# TODO: Crear un acumulador\n",
    "s = 0\n",
    "\n",
    "# TODO: Recorrer los números desde 100 hasta 200 inclusive\n",
    "for i in range(100, 201):\n",
    "    # TODO: Acumular la raíz cuadrada (potencia 0.5) del iterador\n",
    "    s += i ** 0.5\n",
    "    \n",
    "# TODO: Imprimir la suma acumulada\n",
    "print( s )"
   ]
  },
  {
   "cell_type": "markdown",
   "metadata": {},
   "source": [
    "Otro ciclo que podría ser util es `while` el cuál permite repetir un bloque de código indeterminadamente hasta que se cumpla una condición."
   ]
  },
  {
   "cell_type": "code",
   "execution_count": null,
   "metadata": {},
   "outputs": [],
   "source": [
    "# Sintaxis\n",
    "# while condición:\n",
    "#    bloque A"
   ]
  },
  {
   "cell_type": "markdown",
   "metadata": {},
   "source": [
    "Generalmente se suele utilizar `while True:` para repetir siempre un bloque y romperlo manualmente mendiante `break`.\n",
    "\n",
    "> Ejemplo: Suma de números indeterminados"
   ]
  },
  {
   "cell_type": "code",
   "execution_count": 10,
   "metadata": {},
   "outputs": [
    {
     "name": "stdout",
     "output_type": "stream",
     "text": [
      "A continuación se solicitará un número y se ira sumando\n",
      "si el número es negativo el programa terminará\n"
     ]
    },
    {
     "name": "stdin",
     "output_type": "stream",
     "text": [
      "Dame un número [negativo finaliza]: 2\n",
      "Dame un número [negativo finaliza]: 5\n",
      "Dame un número [negativo finaliza]: 7\n",
      "Dame un número [negativo finaliza]: 8\n",
      "Dame un número [negativo finaliza]: -1\n"
     ]
    },
    {
     "name": "stdout",
     "output_type": "stream",
     "text": [
      "22\n"
     ]
    }
   ],
   "source": [
    "print( \"A continuación se solicitará un número y se ira sumando\" )\n",
    "print( \"si el número es negativo el programa terminará\" )\n",
    "\n",
    "s = 0\n",
    "\n",
    "while True:\n",
    "    x = int( input(\"Dame un número [negativo finaliza]:\") )\n",
    "    if x < 0:\n",
    "        break\n",
    "    s += x\n",
    "\n",
    "print( s )"
   ]
  },
  {
   "cell_type": "markdown",
   "metadata": {},
   "source": [
    "## Colecciones (listas, tuplas, diccionarios)\n",
    "\n",
    "Las colecciones son agrupamientos de datos en estructuras uniformes que nos permitirán retener grandes cantidades de datos en una sola varibles. \n",
    "\n",
    "Las listas son utilizas generalmente (pero no se limitan) a mantener un vectores de valores para poder posteriormente obtener nueva información, por ejemplo, una lista de números con edades o calificaciones, una lista de nombres o apellidos, una lista de valores de temperatura extraídos desde un experiemento, etc.\n",
    "\n",
    "Las listas son como arreglos de datos que tienen la capacidad de crecer y decrecer en el tiempo, además que podemos aplicar operaciones de búsqueda, transformaciones, filtros y reducciones de datos."
   ]
  },
  {
   "cell_type": "code",
   "execution_count": null,
   "metadata": {},
   "outputs": [],
   "source": [
    "# Sintaxis\n",
    "# [ elemento1, elemento2, ..., elementoN ]\n",
    "\n",
    "# Ejemplos\n",
    "# [ 1, 2, 3, 100 ]\n",
    "# [ \"manzana\", \"kiwi\", \"fresa\" ]\n",
    "# [ 1, \"Español\", 25, \"Hombre\" ] # No es buena práctica\n",
    "# [] # Lista vacía"
   ]
  },
  {
   "cell_type": "markdown",
   "metadata": {},
   "source": [
    "> Ejemplo: Almacén de frutas\n",
    "\n",
    "En el siguiente programa partimos de una lista de frutas para ver algunas de las propiedades más importantes de las listas sobre sus índices.\n",
    "\n",
    "Para más información visita: https://www.w3schools.com/python/python_lists.asp"
   ]
  },
  {
   "cell_type": "code",
   "execution_count": 14,
   "metadata": {},
   "outputs": [
    {
     "name": "stdout",
     "output_type": "stream",
     "text": [
      "['fresa', 'guayaba', 'mango']\n",
      "Tamaño: 3\n",
      "fresa\n",
      "mango\n"
     ]
    }
   ],
   "source": [
    "frutas = [ \"fresa\", \"guayaba\", \"mango\" ]\n",
    "\n",
    "print( frutas )\n",
    "\n",
    "# len(lista) - `len` devuelve el número de elementos en `lista`\n",
    "print( \"Tamaño: {}\".format( len(frutas) ) )\n",
    "\n",
    "# lista[i] - devuelve el i-ésimo elemento de `lista`\n",
    "# los elementos en una lista son auto-indexados comenzando en 0\n",
    "print( frutas[0] )\n",
    "\n",
    "# lista[-i] - devuelve el i-ultiésimo elemento de la lista\n",
    "# el índice -1 hace referencia al último elmento, por lo que\n",
    "# el índice -3 significaría el tercer elemento último (en este caso \"fresa\")\n",
    "print( frutas[-1] )\n",
    "\n",
    "# El último índice en una lista es equivalente a `len(lista) - 1`\n",
    "# !! print( frutas[5] ) # Error: el índice está fuera de rango"
   ]
  },
  {
   "cell_type": "markdown",
   "metadata": {},
   "source": [
    "Podemos partir de una lista vacía (o no) y programáticamente podemos seguir agregando elementos con la función `append`.\n",
    "\n",
    "* __`lista.append(x)`__ - agrega el elemento `x` al final de la lista "
   ]
  },
  {
   "cell_type": "code",
   "execution_count": 15,
   "metadata": {},
   "outputs": [
    {
     "name": "stdout",
     "output_type": "stream",
     "text": [
      "['fresa', 'guayaba', 'mango']\n"
     ]
    }
   ],
   "source": [
    "frutas = []\n",
    "\n",
    "frutas.append(\"fresa\")\n",
    "frutas.append(\"guayaba\")\n",
    "frutas.append(\"mango\")\n",
    "\n",
    "print( frutas )"
   ]
  },
  {
   "cell_type": "markdown",
   "metadata": {},
   "source": [
    "Podemos quitar el último elemento de una lista con la función `pop`.\n",
    "\n",
    "* __`lista.pop([i])`__ - quita el último elemento o si se define el i-ésimo elemento."
   ]
  },
  {
   "cell_type": "code",
   "execution_count": 17,
   "metadata": {},
   "outputs": [
    {
     "name": "stdout",
     "output_type": "stream",
     "text": [
      "['guayaba', 'mango', 'limon']\n"
     ]
    }
   ],
   "source": [
    "frutas = [\"fresa\", \"guayaba\", \"mango\", \"limon\", \"fresa\"]\n",
    "\n",
    "frutas.pop(0)\n",
    "frutas.pop()\n",
    "\n",
    "print( frutas )"
   ]
  },
  {
   "cell_type": "markdown",
   "metadata": {},
   "source": [
    "Podemos quitar el primer elemento que coíncida mediante `remove`. Advertencia: si el elemento a quitar no existe genera un error, por lo cuál podríamos preguntar antes si el elemento se encuentra en la lista.\n",
    "\n",
    "* __`lista.remove(x)`__: quita el primer elemento `x` en la lista o truena."
   ]
  },
  {
   "cell_type": "code",
   "execution_count": 18,
   "metadata": {},
   "outputs": [
    {
     "name": "stdout",
     "output_type": "stream",
     "text": [
      "['fresa', 'mango', 'limon', 'fresa']\n"
     ]
    }
   ],
   "source": [
    "frutas = [\"fresa\", \"guayaba\", \"mango\", \"limon\", \"fresa\"]\n",
    "\n",
    "frutas.remove(\"guayaba\")\n",
    "\n",
    "print( frutas )"
   ]
  },
  {
   "cell_type": "code",
   "execution_count": 19,
   "metadata": {},
   "outputs": [
    {
     "name": "stdout",
     "output_type": "stream",
     "text": [
      "['guayaba', 'mango', 'limon']\n"
     ]
    }
   ],
   "source": [
    "frutas = [\"fresa\", \"guayaba\", \"mango\", \"limon\", \"fresa\"]\n",
    "\n",
    "while \"fresa\" in frutas:\n",
    "    frutas.remove(\"fresa\")\n",
    "    \n",
    "print( frutas )"
   ]
  },
  {
   "cell_type": "markdown",
   "metadata": {},
   "source": [
    "Observa que `x in lista` devuelve un booleano que determina `True` si el elemento `x` está en la lista o `False` en caso contrario.\n",
    "\n",
    "Podemos generar listas de listas para reprentar datos más complicados."
   ]
  },
  {
   "cell_type": "code",
   "execution_count": 20,
   "metadata": {},
   "outputs": [
    {
     "name": "stdout",
     "output_type": "stream",
     "text": [
      "[[1, 2, 3], [4, 5, 6], [7, 8, 9]]\n"
     ]
    }
   ],
   "source": [
    "mat = [\n",
    "    [1, 2, 3],\n",
    "    [4, 5, 6],\n",
    "    [7, 8, 9]\n",
    "]\n",
    "\n",
    "print( mat )"
   ]
  },
  {
   "cell_type": "markdown",
   "metadata": {},
   "source": [
    "Podemos insertar elementos en una posición determinada con `insert`.\n",
    "\n",
    "* __`lista.insert(i, x)`__: inserta el elmento `x` en la i-ésima posición (en dónde está el índice `i`)."
   ]
  },
  {
   "cell_type": "code",
   "execution_count": 21,
   "metadata": {},
   "outputs": [
    {
     "name": "stdout",
     "output_type": "stream",
     "text": [
      "['fresa', 'guayaba', 'melón', 'mango', 'limon', 'fresa']\n"
     ]
    }
   ],
   "source": [
    "frutas = [\"fresa\", \"guayaba\", \"mango\", \"limon\", \"fresa\"]\n",
    "\n",
    "frutas.insert(2, \"melón\")\n",
    "\n",
    "print( frutas )"
   ]
  },
  {
   "cell_type": "markdown",
   "metadata": {},
   "source": [
    "> Ejemplo: Ordenar una lista de números\n",
    "\n",
    "Para ordenar una lista podemos construir una nueva lista que ya esté ordenada al final del algoritmo siguiedo los pasos:\n",
    "\n",
    "* 1. Definir la lista a ordenar -> (A)\n",
    "* 2. Crear una lista vacía -> (B)\n",
    "* 3. Mientras la lista (A) tenga elementos:\n",
    "    * 3.1 Obtener el elemento menor de (A) -> (x)\n",
    "    * 3.2 Quitar el elemento (x) de la lista (A)\n",
    "    * 3.3 Agregar el elemento (x) a la lista (B)\n",
    "* 4. Mostrar la lista (B) que ya está ordenada"
   ]
  },
  {
   "cell_type": "code",
   "execution_count": 23,
   "metadata": {},
   "outputs": [
    {
     "name": "stdout",
     "output_type": "stream",
     "text": [
      "[4, 3, 5, 7, 6, 8, 1, 2, 9, 0]\n",
      "[0, 1, 2, 3, 4, 5, 6, 7, 8, 9]\n"
     ]
    }
   ],
   "source": [
    "A = [4, 3, 5, 7, 6, 8, 1, 2, 9, 0]\n",
    "print( A )\n",
    "B = []\n",
    "while len(A) > 0:\n",
    "    x = min(A)\n",
    "    A.remove(x)\n",
    "    B.append(x)\n",
    "print( B )"
   ]
  },
  {
   "cell_type": "code",
   "execution_count": null,
   "metadata": {},
   "outputs": [],
   "source": []
  },
  {
   "cell_type": "code",
   "execution_count": null,
   "metadata": {},
   "outputs": [],
   "source": []
  },
  {
   "cell_type": "code",
   "execution_count": null,
   "metadata": {},
   "outputs": [],
   "source": []
  },
  {
   "cell_type": "code",
   "execution_count": null,
   "metadata": {},
   "outputs": [],
   "source": []
  },
  {
   "cell_type": "code",
   "execution_count": null,
   "metadata": {},
   "outputs": [],
   "source": []
  }
 ],
 "metadata": {
  "kernelspec": {
   "display_name": "Python 3",
   "language": "python",
   "name": "python3"
  },
  "language_info": {
   "codemirror_mode": {
    "name": "ipython",
    "version": 3
   },
   "file_extension": ".py",
   "mimetype": "text/x-python",
   "name": "python",
   "nbconvert_exporter": "python",
   "pygments_lexer": "ipython3",
   "version": "3.7.1"
  }
 },
 "nbformat": 4,
 "nbformat_minor": 2
}
