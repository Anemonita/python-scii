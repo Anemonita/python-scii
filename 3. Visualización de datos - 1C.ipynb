{
 "cells": [
  {
   "cell_type": "markdown",
   "metadata": {},
   "source": [
    "# Visualización de datos\n",
    "\n",
    "Alan Badillo Salas (badillo.soft@hotmail.com)\n",
    "\n"
   ]
  },
  {
   "cell_type": "markdown",
   "metadata": {},
   "source": [
    "## Visualización de un eje categórico\n",
    "\n",
    "Podemos graficar un eje categórico a través de gráficas de pastel y barras, la idea central será obtener las categorías distintas dentro del eje y cuántas veces se repite cada categoría sobre el eje. Para hacerlo podemos usar la función `set(...)` que recibe una lista y devuelve los elementos distintos, la función `list(...)` que convierte cosas en listas y la función `map(...)` que transforma los elementos de una lista en otros."
   ]
  },
  {
   "cell_type": "markdown",
   "metadata": {},
   "source": [
    "1. Establecer el eje categórico (vector de datos categóricos)"
   ]
  },
  {
   "cell_type": "code",
   "execution_count": 6,
   "metadata": {},
   "outputs": [
    {
     "data": {
      "text/plain": [
       "['manzana', 'manzana', 'fresa', 'pera', 'mango', 'mango']"
      ]
     },
     "execution_count": 6,
     "metadata": {},
     "output_type": "execute_result"
    }
   ],
   "source": [
    "frutas = [\"manzana\", \"manzana\", \"fresa\", \"pera\", \"mango\", \"mango\"]\n",
    "\n",
    "frutas"
   ]
  },
  {
   "cell_type": "markdown",
   "metadata": {},
   "source": [
    "2. Encontrar las categorías distintas y construir una lista a partir de ellas"
   ]
  },
  {
   "cell_type": "code",
   "execution_count": 7,
   "metadata": {},
   "outputs": [
    {
     "data": {
      "text/plain": [
       "['mango', 'manzana', 'fresa', 'pera']"
      ]
     },
     "execution_count": 7,
     "metadata": {},
     "output_type": "execute_result"
    }
   ],
   "source": [
    "etiquetas = list(set(frutas))\n",
    "\n",
    "etiquetas"
   ]
  },
  {
   "cell_type": "markdown",
   "metadata": {},
   "source": [
    "3. Calcular los pesos a partir del conteo de las repeticiones de las categorías sobre eje. (Observa el uso de la función `map`)"
   ]
  },
  {
   "cell_type": "code",
   "execution_count": 16,
   "metadata": {},
   "outputs": [
    {
     "data": {
      "text/plain": [
       "[1, 4, 9, 16, 25, 36]"
      ]
     },
     "execution_count": 16,
     "metadata": {},
     "output_type": "execute_result"
    }
   ],
   "source": [
    "# Un mapeo (map) es un aplicador para\n",
    "# una función de transformación que recibe a\n",
    "# la función de transformación para transformar\n",
    "# cada elemento de una lista.\n",
    "# El mapeo o mapeador se encarga de recorrer en orden\n",
    "# cada elemento, transformarlo y colocarlo en una\n",
    "# lista. El resultado es una lista similar\n",
    "# del mismo tamaño, pero dónde cada elemento\n",
    "# fue transformado.\n",
    "\n",
    "# Sintaxis: map(T, v)\n",
    "# T - función de transformación que recibe cada elemento\n",
    "# y devuelve el elemento transformado\n",
    "# v - es un vector de datos que será transformado elemento\n",
    "# por elemento a través de `map`\n",
    "\n",
    "# Ejemplo: Toma un vector de números y a cada número\n",
    "# transformalo en su elemento cuadrático\n",
    "T = lambda x: x ** 2\n",
    "v = [1, 2, 3, 4, 5, 6]\n",
    "m = map(T, v)\n",
    "r = list(m)\n",
    "\n",
    "# T - lambda x: x ** 2\n",
    "# v - [1, 2, 3, 4, 5, 6]\n",
    "\n",
    "# Observa que se usa list(map(...)) para convertir el\n",
    "# en una lista\n",
    "\n",
    "# lambda x: x ** 2 es una función lambda o función en\n",
    "# una linea, equivale a definir def T(x): \\n x ** 2\n",
    "# Leáse: \"dame a x y te regreso a x ** 2\"\n",
    "\n",
    "r"
   ]
  },
  {
   "cell_type": "code",
   "execution_count": 15,
   "metadata": {},
   "outputs": [
    {
     "data": {
      "text/plain": [
       "[2, 2, 1, 1]"
      ]
     },
     "execution_count": 15,
     "metadata": {},
     "output_type": "execute_result"
    }
   ],
   "source": [
    "pesos = list(map(lambda c: frutas.count(c), etiquetas))\n",
    "\n",
    "# Leáse: \"Crea un variable llama `pesos` que contenga\n",
    "# una lista generada a partir de un mapeo, el mapeo\n",
    "# recibe como función de transformación una función\n",
    "# lambda, la cuál a su vez, recibe cada etiqueta\n",
    "# llamada `c`, dónde la etiqueta se refiere a\n",
    "# cada categoría única encontrada en las frutas\n",
    "# y la función lambda toma la etiqueta `c` y\n",
    "# devuelve cuántas veces aparece `c` en la\n",
    "# lista de frutas mediante `frutas.count(c)`\n",
    "# para esto, pasamos como segundo parámetro\n",
    "# en la función de mapeo la lista de etiquetas\"\n",
    "\n",
    "pesos"
   ]
  },
  {
   "cell_type": "markdown",
   "metadata": {},
   "source": [
    "3. Primera forma alternativa de generar los pesos"
   ]
  },
  {
   "cell_type": "code",
   "execution_count": 19,
   "metadata": {},
   "outputs": [
    {
     "data": {
      "text/plain": [
       "[2, 2, 1, 1]"
      ]
     },
     "execution_count": 19,
     "metadata": {},
     "output_type": "execute_result"
    }
   ],
   "source": [
    "pesos = []\n",
    "\n",
    "for c in etiquetas:\n",
    "    pesos.append(frutas.count(c))\n",
    "    \n",
    "pesos\n",
    "\n",
    "# Leáse: Crea una lista de pesos vacía\n",
    "# y para cada etiqueta `c` agrega a la lista\n",
    "# de pesos el resultado de contar\n",
    "# cuántas veces aparece la etiqueta/categoría `c`\n",
    "# en la lista de frutas mediante `frutas.count(c)`"
   ]
  },
  {
   "cell_type": "markdown",
   "metadata": {},
   "source": [
    "3. Segunda forma alternativa para generar los pesos"
   ]
  },
  {
   "cell_type": "code",
   "execution_count": 29,
   "metadata": {},
   "outputs": [
    {
     "data": {
      "text/plain": [
       "[2, 2, 1, 1]"
      ]
     },
     "execution_count": 29,
     "metadata": {},
     "output_type": "execute_result"
    }
   ],
   "source": [
    "pesos = [ frutas.count(c) for c in etiquetas ]\n",
    "\n",
    "# Leáse: Genera una lista de pesos a partir de recorrer\n",
    "# cada etiqueta/categoría `c` en las etiquetas\n",
    "# y ponemos en la lista generada el conteo de\n",
    "# la etiqueta/categoría `c` en la lista de frutas\n",
    "# mediante `frutas.count(c)`\n",
    "\n",
    "pesos"
   ]
  },
  {
   "cell_type": "markdown",
   "metadata": {},
   "source": [
    "4. En este momento tenemos una lista de etiquetas y una lista de pesos. Entonces, podemos crear las gráficas de pastel y barras automáticamente."
   ]
  },
  {
   "cell_type": "code",
   "execution_count": 20,
   "metadata": {},
   "outputs": [
    {
     "name": "stdout",
     "output_type": "stream",
     "text": [
      "['mango', 'manzana', 'fresa', 'pera']\n",
      "[2, 2, 1, 1]\n"
     ]
    }
   ],
   "source": [
    "print(etiquetas)\n",
    "print(pesos)"
   ]
  },
  {
   "cell_type": "code",
   "execution_count": 22,
   "metadata": {},
   "outputs": [
    {
     "data": {
      "image/png": "[encoded data removed]",
      "text/plain": [
       "<Figure size 432x288 with 1 Axes>"
      ]
     },
     "metadata": {},
     "output_type": "display_data"
    }
   ],
   "source": [
    "import matplotlib.pyplot as plt\n",
    "\n",
    "plt.pie(pesos, labels=etiquetas)\n",
    "plt.show()"
   ]
  },
  {
   "cell_type": "code",
   "execution_count": 23,
   "metadata": {},
   "outputs": [
    {
     "data": {
      "image/png": "[encoded data removed]",
      "text/plain": [
       "<Figure size 432x288 with 1 Axes>"
      ]
     },
     "metadata": {
      "needs_background": "light"
     },
     "output_type": "display_data"
    }
   ],
   "source": [
    "import matplotlib.pyplot as plt\n",
    "\n",
    "plt.bar(etiquetas, pesos)\n",
    "plt.show()"
   ]
  },
  {
   "cell_type": "markdown",
   "metadata": {},
   "source": [
    "5. (Opcional) Podemos abstraer la funcionalidad para graficar un eje categórico en una función sencilla de invocar para reutilizar el código una y otra vez."
   ]
  },
  {
   "cell_type": "code",
   "execution_count": 24,
   "metadata": {},
   "outputs": [],
   "source": [
    "import matplotlib.pyplot as plt\n",
    "\n",
    "def plotCat(categories):\n",
    "    labels = list(set(categories))\n",
    "    sizes = [ categories.count(cat) for cat in labels ]\n",
    "    plt.pie(sizes, labels=labels)\n",
    "    plt.show()\n",
    "    plt.bar(labels, sizes)\n",
    "    plt.show()"
   ]
  },
  {
   "cell_type": "code",
   "execution_count": 25,
   "metadata": {},
   "outputs": [
    {
     "data": {
      "image/png": "[encoded data removed]",
      "text/plain": [
       "<Figure size 432x288 with 1 Axes>"
      ]
     },
     "metadata": {},
     "output_type": "display_data"
    },
    {
     "data": {
      "image/png": "[encoded data removed]",
      "text/plain": [
       "<Figure size 432x288 with 1 Axes>"
      ]
     },
     "metadata": {
      "needs_background": "light"
     },
     "output_type": "display_data"
    }
   ],
   "source": [
    "plotCat([ \"a\", \"a\", \"b\" ])"
   ]
  },
  {
   "cell_type": "code",
   "execution_count": 26,
   "metadata": {},
   "outputs": [
    {
     "data": {
      "image/png": "[encoded data removed]",
      "text/plain": [
       "<Figure size 432x288 with 1 Axes>"
      ]
     },
     "metadata": {},
     "output_type": "display_data"
    },
    {
     "data": {
      "image/png": "[encoded data removed]",
      "text/plain": [
       "<Figure size 432x288 with 1 Axes>"
      ]
     },
     "metadata": {
      "needs_background": "light"
     },
     "output_type": "display_data"
    }
   ],
   "source": [
    "plotCat([ \"hombre\", \"hombre\", \"mujer\", \"mujer\", \"mujer\" ])"
   ]
  },
  {
   "cell_type": "code",
   "execution_count": null,
   "metadata": {},
   "outputs": [],
   "source": []
  },
  {
   "cell_type": "code",
   "execution_count": null,
   "metadata": {},
   "outputs": [],
   "source": []
  },
  {
   "cell_type": "code",
   "execution_count": null,
   "metadata": {},
   "outputs": [],
   "source": []
  }
 ],
 "metadata": {
  "kernelspec": {
   "display_name": "Python 3",
   "language": "python",
   "name": "python3"
  },
  "language_info": {
   "codemirror_mode": {
    "name": "ipython",
    "version": 3
   },
   "file_extension": ".py",
   "mimetype": "text/x-python",
   "name": "python",
   "nbconvert_exporter": "python",
   "pygments_lexer": "ipython3",
   "version": "3.7.1"
  }
 },
 "nbformat": 4,
 "nbformat_minor": 2
}
